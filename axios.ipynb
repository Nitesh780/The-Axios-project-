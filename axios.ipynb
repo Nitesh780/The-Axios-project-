{
  "nbformat": 4,
  "nbformat_minor": 0,
  "metadata": {
    "colab": {
      "provenance": [],
      "gpuType": "T4"
    },
    "kernelspec": {
      "name": "python3",
      "display_name": "Python 3"
    },
    "language_info": {
      "name": "python"
    },
    "accelerator": "GPU"
  },
  "cells": [
    {
      "cell_type": "code",
      "execution_count": 30,
      "metadata": {
        "id": "RTTtsAs8qSLM"
      },
      "outputs": [],
      "source": [
        "import tensorflow as tf\n",
        "from tensorflow.keras.models import Sequential\n",
        "from tensorflow.keras.layers import Embedding, LSTM, Dense ,Dropout\n",
        "import numpy as np\n",
        "import pandas as pd\n",
        "import random\n",
        "import sys"
      ]
    },
    {
      "cell_type": "code",
      "source": [
        "df = pd.read_csv('/content/train.csv')\n",
        "text = \" \".join(df['text'].dropna().astype(str)).lower()\n",
        "\n",
        "print(f'Total characters in text: {len(text)}')"
      ],
      "metadata": {
        "colab": {
          "base_uri": "https://localhost:8080/"
        },
        "id": "Zws7gtQrqa4j",
        "outputId": "ccd18d1d-f7aa-47b7-cf23-6418e5f01470"
      },
      "execution_count": 31,
      "outputs": [
        {
          "output_type": "stream",
          "name": "stdout",
          "text": [
            "Total characters in text: 35695884\n"
          ]
        }
      ]
    },
    {
      "cell_type": "code",
      "source": [
        "df.head()"
      ],
      "metadata": {
        "colab": {
          "base_uri": "https://localhost:8080/",
          "height": 293
        },
        "id": "1-kXDUcuqp9y",
        "outputId": "340f8756-8545-4587-fa4c-546f5a3b4931"
      },
      "execution_count": 32,
      "outputs": [
        {
          "output_type": "execute_result",
          "data": {
            "text/plain": [
              "                                               title  \\\n",
              "0  Greens say no support for Macron's EZ budget i...   \n",
              "1  Trump faces uphill battle to overcome court's ...   \n",
              "2  Ukraine president denies hampering anti-corrup...   \n",
              "3  U.S. defense chief: White House shakeup will n...   \n",
              "4  Irish government set to fall weeks before Brex...   \n",
              "\n",
              "                                                text       subject  \\\n",
              "0  BERLIN (Reuters) - None of the German parties ...     worldnews   \n",
              "1  (Reuters) - U.S. President Donald Trump faces ...  politicsNews   \n",
              "2  VILNIUS/KIEV (Reuters) - Ukrainian President P...     worldnews   \n",
              "3  BRUSSELS (Reuters) - U.S. Defense Secretary Ji...  politicsNews   \n",
              "4  DUBLIN (Reuters) - Ireland s minority governme...     worldnews   \n",
              "\n",
              "                 date  \n",
              "0   October 25, 2017   \n",
              "1   February 6, 2017   \n",
              "2   December 8, 2017   \n",
              "3  February 14, 2017   \n",
              "4  November 24, 2017   "
            ],
            "text/html": [
              "\n",
              "  <div id=\"df-4a463066-23f6-4aa3-b9cc-113b8d5bf94f\" class=\"colab-df-container\">\n",
              "    <div>\n",
              "<style scoped>\n",
              "    .dataframe tbody tr th:only-of-type {\n",
              "        vertical-align: middle;\n",
              "    }\n",
              "\n",
              "    .dataframe tbody tr th {\n",
              "        vertical-align: top;\n",
              "    }\n",
              "\n",
              "    .dataframe thead th {\n",
              "        text-align: right;\n",
              "    }\n",
              "</style>\n",
              "<table border=\"1\" class=\"dataframe\">\n",
              "  <thead>\n",
              "    <tr style=\"text-align: right;\">\n",
              "      <th></th>\n",
              "      <th>title</th>\n",
              "      <th>text</th>\n",
              "      <th>subject</th>\n",
              "      <th>date</th>\n",
              "    </tr>\n",
              "  </thead>\n",
              "  <tbody>\n",
              "    <tr>\n",
              "      <th>0</th>\n",
              "      <td>Greens say no support for Macron's EZ budget i...</td>\n",
              "      <td>BERLIN (Reuters) - None of the German parties ...</td>\n",
              "      <td>worldnews</td>\n",
              "      <td>October 25, 2017</td>\n",
              "    </tr>\n",
              "    <tr>\n",
              "      <th>1</th>\n",
              "      <td>Trump faces uphill battle to overcome court's ...</td>\n",
              "      <td>(Reuters) - U.S. President Donald Trump faces ...</td>\n",
              "      <td>politicsNews</td>\n",
              "      <td>February 6, 2017</td>\n",
              "    </tr>\n",
              "    <tr>\n",
              "      <th>2</th>\n",
              "      <td>Ukraine president denies hampering anti-corrup...</td>\n",
              "      <td>VILNIUS/KIEV (Reuters) - Ukrainian President P...</td>\n",
              "      <td>worldnews</td>\n",
              "      <td>December 8, 2017</td>\n",
              "    </tr>\n",
              "    <tr>\n",
              "      <th>3</th>\n",
              "      <td>U.S. defense chief: White House shakeup will n...</td>\n",
              "      <td>BRUSSELS (Reuters) - U.S. Defense Secretary Ji...</td>\n",
              "      <td>politicsNews</td>\n",
              "      <td>February 14, 2017</td>\n",
              "    </tr>\n",
              "    <tr>\n",
              "      <th>4</th>\n",
              "      <td>Irish government set to fall weeks before Brex...</td>\n",
              "      <td>DUBLIN (Reuters) - Ireland s minority governme...</td>\n",
              "      <td>worldnews</td>\n",
              "      <td>November 24, 2017</td>\n",
              "    </tr>\n",
              "  </tbody>\n",
              "</table>\n",
              "</div>\n",
              "    <div class=\"colab-df-buttons\">\n",
              "\n",
              "  <div class=\"colab-df-container\">\n",
              "    <button class=\"colab-df-convert\" onclick=\"convertToInteractive('df-4a463066-23f6-4aa3-b9cc-113b8d5bf94f')\"\n",
              "            title=\"Convert this dataframe to an interactive table.\"\n",
              "            style=\"display:none;\">\n",
              "\n",
              "  <svg xmlns=\"http://www.w3.org/2000/svg\" height=\"24px\" viewBox=\"0 -960 960 960\">\n",
              "    <path d=\"M120-120v-720h720v720H120Zm60-500h600v-160H180v160Zm220 220h160v-160H400v160Zm0 220h160v-160H400v160ZM180-400h160v-160H180v160Zm440 0h160v-160H620v160ZM180-180h160v-160H180v160Zm440 0h160v-160H620v160Z\"/>\n",
              "  </svg>\n",
              "    </button>\n",
              "\n",
              "  <style>\n",
              "    .colab-df-container {\n",
              "      display:flex;\n",
              "      gap: 12px;\n",
              "    }\n",
              "\n",
              "    .colab-df-convert {\n",
              "      background-color: #E8F0FE;\n",
              "      border: none;\n",
              "      border-radius: 50%;\n",
              "      cursor: pointer;\n",
              "      display: none;\n",
              "      fill: #1967D2;\n",
              "      height: 32px;\n",
              "      padding: 0 0 0 0;\n",
              "      width: 32px;\n",
              "    }\n",
              "\n",
              "    .colab-df-convert:hover {\n",
              "      background-color: #E2EBFA;\n",
              "      box-shadow: 0px 1px 2px rgba(60, 64, 67, 0.3), 0px 1px 3px 1px rgba(60, 64, 67, 0.15);\n",
              "      fill: #174EA6;\n",
              "    }\n",
              "\n",
              "    .colab-df-buttons div {\n",
              "      margin-bottom: 4px;\n",
              "    }\n",
              "\n",
              "    [theme=dark] .colab-df-convert {\n",
              "      background-color: #3B4455;\n",
              "      fill: #D2E3FC;\n",
              "    }\n",
              "\n",
              "    [theme=dark] .colab-df-convert:hover {\n",
              "      background-color: #434B5C;\n",
              "      box-shadow: 0px 1px 3px 1px rgba(0, 0, 0, 0.15);\n",
              "      filter: drop-shadow(0px 1px 2px rgba(0, 0, 0, 0.3));\n",
              "      fill: #FFFFFF;\n",
              "    }\n",
              "  </style>\n",
              "\n",
              "    <script>\n",
              "      const buttonEl =\n",
              "        document.querySelector('#df-4a463066-23f6-4aa3-b9cc-113b8d5bf94f button.colab-df-convert');\n",
              "      buttonEl.style.display =\n",
              "        google.colab.kernel.accessAllowed ? 'block' : 'none';\n",
              "\n",
              "      async function convertToInteractive(key) {\n",
              "        const element = document.querySelector('#df-4a463066-23f6-4aa3-b9cc-113b8d5bf94f');\n",
              "        const dataTable =\n",
              "          await google.colab.kernel.invokeFunction('convertToInteractive',\n",
              "                                                    [key], {});\n",
              "        if (!dataTable) return;\n",
              "\n",
              "        const docLinkHtml = 'Like what you see? Visit the ' +\n",
              "          '<a target=\"_blank\" href=https://colab.research.google.com/notebooks/data_table.ipynb>data table notebook</a>'\n",
              "          + ' to learn more about interactive tables.';\n",
              "        element.innerHTML = '';\n",
              "        dataTable['output_type'] = 'display_data';\n",
              "        await google.colab.output.renderOutput(dataTable, element);\n",
              "        const docLink = document.createElement('div');\n",
              "        docLink.innerHTML = docLinkHtml;\n",
              "        element.appendChild(docLink);\n",
              "      }\n",
              "    </script>\n",
              "  </div>\n",
              "\n",
              "\n",
              "    <div id=\"df-c3285c2d-78ef-4db9-8c54-fce9cbc90ed6\">\n",
              "      <button class=\"colab-df-quickchart\" onclick=\"quickchart('df-c3285c2d-78ef-4db9-8c54-fce9cbc90ed6')\"\n",
              "                title=\"Suggest charts\"\n",
              "                style=\"display:none;\">\n",
              "\n",
              "<svg xmlns=\"http://www.w3.org/2000/svg\" height=\"24px\"viewBox=\"0 0 24 24\"\n",
              "     width=\"24px\">\n",
              "    <g>\n",
              "        <path d=\"M19 3H5c-1.1 0-2 .9-2 2v14c0 1.1.9 2 2 2h14c1.1 0 2-.9 2-2V5c0-1.1-.9-2-2-2zM9 17H7v-7h2v7zm4 0h-2V7h2v10zm4 0h-2v-4h2v4z\"/>\n",
              "    </g>\n",
              "</svg>\n",
              "      </button>\n",
              "\n",
              "<style>\n",
              "  .colab-df-quickchart {\n",
              "      --bg-color: #E8F0FE;\n",
              "      --fill-color: #1967D2;\n",
              "      --hover-bg-color: #E2EBFA;\n",
              "      --hover-fill-color: #174EA6;\n",
              "      --disabled-fill-color: #AAA;\n",
              "      --disabled-bg-color: #DDD;\n",
              "  }\n",
              "\n",
              "  [theme=dark] .colab-df-quickchart {\n",
              "      --bg-color: #3B4455;\n",
              "      --fill-color: #D2E3FC;\n",
              "      --hover-bg-color: #434B5C;\n",
              "      --hover-fill-color: #FFFFFF;\n",
              "      --disabled-bg-color: #3B4455;\n",
              "      --disabled-fill-color: #666;\n",
              "  }\n",
              "\n",
              "  .colab-df-quickchart {\n",
              "    background-color: var(--bg-color);\n",
              "    border: none;\n",
              "    border-radius: 50%;\n",
              "    cursor: pointer;\n",
              "    display: none;\n",
              "    fill: var(--fill-color);\n",
              "    height: 32px;\n",
              "    padding: 0;\n",
              "    width: 32px;\n",
              "  }\n",
              "\n",
              "  .colab-df-quickchart:hover {\n",
              "    background-color: var(--hover-bg-color);\n",
              "    box-shadow: 0 1px 2px rgba(60, 64, 67, 0.3), 0 1px 3px 1px rgba(60, 64, 67, 0.15);\n",
              "    fill: var(--button-hover-fill-color);\n",
              "  }\n",
              "\n",
              "  .colab-df-quickchart-complete:disabled,\n",
              "  .colab-df-quickchart-complete:disabled:hover {\n",
              "    background-color: var(--disabled-bg-color);\n",
              "    fill: var(--disabled-fill-color);\n",
              "    box-shadow: none;\n",
              "  }\n",
              "\n",
              "  .colab-df-spinner {\n",
              "    border: 2px solid var(--fill-color);\n",
              "    border-color: transparent;\n",
              "    border-bottom-color: var(--fill-color);\n",
              "    animation:\n",
              "      spin 1s steps(1) infinite;\n",
              "  }\n",
              "\n",
              "  @keyframes spin {\n",
              "    0% {\n",
              "      border-color: transparent;\n",
              "      border-bottom-color: var(--fill-color);\n",
              "      border-left-color: var(--fill-color);\n",
              "    }\n",
              "    20% {\n",
              "      border-color: transparent;\n",
              "      border-left-color: var(--fill-color);\n",
              "      border-top-color: var(--fill-color);\n",
              "    }\n",
              "    30% {\n",
              "      border-color: transparent;\n",
              "      border-left-color: var(--fill-color);\n",
              "      border-top-color: var(--fill-color);\n",
              "      border-right-color: var(--fill-color);\n",
              "    }\n",
              "    40% {\n",
              "      border-color: transparent;\n",
              "      border-right-color: var(--fill-color);\n",
              "      border-top-color: var(--fill-color);\n",
              "    }\n",
              "    60% {\n",
              "      border-color: transparent;\n",
              "      border-right-color: var(--fill-color);\n",
              "    }\n",
              "    80% {\n",
              "      border-color: transparent;\n",
              "      border-right-color: var(--fill-color);\n",
              "      border-bottom-color: var(--fill-color);\n",
              "    }\n",
              "    90% {\n",
              "      border-color: transparent;\n",
              "      border-bottom-color: var(--fill-color);\n",
              "    }\n",
              "  }\n",
              "</style>\n",
              "\n",
              "      <script>\n",
              "        async function quickchart(key) {\n",
              "          const quickchartButtonEl =\n",
              "            document.querySelector('#' + key + ' button');\n",
              "          quickchartButtonEl.disabled = true;  // To prevent multiple clicks.\n",
              "          quickchartButtonEl.classList.add('colab-df-spinner');\n",
              "          try {\n",
              "            const charts = await google.colab.kernel.invokeFunction(\n",
              "                'suggestCharts', [key], {});\n",
              "          } catch (error) {\n",
              "            console.error('Error during call to suggestCharts:', error);\n",
              "          }\n",
              "          quickchartButtonEl.classList.remove('colab-df-spinner');\n",
              "          quickchartButtonEl.classList.add('colab-df-quickchart-complete');\n",
              "        }\n",
              "        (() => {\n",
              "          let quickchartButtonEl =\n",
              "            document.querySelector('#df-c3285c2d-78ef-4db9-8c54-fce9cbc90ed6 button');\n",
              "          quickchartButtonEl.style.display =\n",
              "            google.colab.kernel.accessAllowed ? 'block' : 'none';\n",
              "        })();\n",
              "      </script>\n",
              "    </div>\n",
              "\n",
              "    </div>\n",
              "  </div>\n"
            ],
            "application/vnd.google.colaboratory.intrinsic+json": {
              "type": "dataframe",
              "variable_name": "df",
              "summary": "{\n  \"name\": \"df\",\n  \"rows\": 14991,\n  \"fields\": [\n    {\n      \"column\": \"title\",\n      \"properties\": {\n        \"dtype\": \"string\",\n        \"num_unique_values\": 14693,\n        \"samples\": [\n          \"Senator urges U.S. airlines to cap fares for people fleeing Maria\",\n          \"Attorney General Lynch asks not to be considered for Supreme Court vacancy\",\n          \"Turkey should follow West's lead on rights: author Orhan Pamuk\"\n        ],\n        \"semantic_type\": \"\",\n        \"description\": \"\"\n      }\n    },\n    {\n      \"column\": \"text\",\n      \"properties\": {\n        \"dtype\": \"string\",\n        \"num_unique_values\": 14887,\n        \"samples\": [\n          \"LONDON (Reuters) - Bones, a moldy hot water bottle, a pair of rusty pliers and a pristine pair of women s pants are among the eclectic cast-offs Reuters photographer Stefan Wermuth has found along the River Thames. Wermuth spent two months collecting items along the riverside to give a snapshot of the litter that finds its way into the waterway that runs through the heart of London. For the photo essay, click on: reut.rs/2yyarEZ A gold-plated watch, a letter in Lithuanian in a bottle and a mobile phone were also retrieved from along the shores of the river, which has undergone extensive cleanups since the Natural History Museum declared the Thames biologically dead in 1957.  Today, marine life including seals, porpoises and dolphins have been spotted swimming alongside fish and a hard drive that Wermuth found littering the murky waters.  Pollution remains a problem. In March, Thames Water was handed a record 20 million pound ($26 million) fine for pumping sewage into the river. The water company apologized for its failings and said it was working to improve rivers. London municipal authorities say 4,000 plastic bottles were removed from the river over a one-month period alone last year, demonstrating the scale of the waste problem.  The impact of pollution on marine life in the Thames has in recent years prompted campaigns to encourage Londoners to make sure their rubbish goes in the bin - rather than the water. \",\n          \"WASHINGTON (Reuters) - U.S. President Donald Trump supports the goal of peace between Israel and the Palestinians, even if it does not involve the two-state solution, a senior White House official said on Tuesday. Speaking a day before Trump holds a White House meeting with Israeli Prime Minister Benjamin Netanyahu, the official said peace was the ultimate goal.  \\u201cWhether that comes in the form of a two\\u2013state solution if that\\u2019s what the parties want, or something else,\\u201d the official said, adding that Trump would not try to \\u201cdictate\\u201d a solution. Failure by a U.S. president to explicitly back a two-state solution would upend decades of U.S. policy embraced by Republican and Democratic administrations. It has long been the bedrock U.S. position for resolving the long-running Israeli-Palestinian conflict and has been at the core of international peace efforts. Any sign of a softening of U.S. support for eventual Palestinian statehood could also anger the Muslim world, including Sunni Arab allies, which the Trump administration needs in the fight against Islamic State and to back efforts against Shi\\u2019ite Iran. Trump considers Middle East peace a \\u201chigh priority,\\u201d the White House official said. The president has given his son-in-law, Jared Kushner, the job of negotiating a peace deal. \\u201cWe would want to work on it very quickly,\\u201d the official said. Trump\\u2019s choice for U.S. ambassador to Israel, David Friedman, who has not yet been confirmed by the Senate, will not be involved in the president\\u2019s discussions with Netanyahu on Wednesday, the official said. Friedman advocates settlement building and has questioned the two-state solution.  The White House said earlier this month that Israel\\u2019s building of new settlements or expansion of existing ones in occupied territories may not be helpful in achieving peace. The statement was a shift in tone for Trump, who signaled during the campaign that he could be more accommodating toward settlement projects than his predecessor, Barack Obama.  \",\n          \"ISTANBUL (Reuters) - Turkish police detained 143 people over suspected links to Islamic State in anti-terror operations in eight cities over the weekend, the state-run Anadolu Agency said on Sunday. Counter-terrorism police detained 49 foreign nationals on Saturday during operations in the capital Ankara, Anadolu said. Some of the detained were believed to be preparing for an attack on Oct. 29, Turkey s Republic Day. The police raided houses in Bursa, a northwestern province of Turkey, and detained 39 people including 28 Syrian nationals and two Azerbaijani nationals on Sunday, Anadolu said. Eight of the detained suspects were minors, it said. On Sunday morning, police detained 22 people in the northeastern province of Erzurum as part of an investigation into terrorist organizations. The detained included suspected senior members of the organizations, Anadolu said. Police also detained 33 suspects in five other cities including Istanbul and Izmir as part of anti-terror operations over the weekend, Anadolu said. Police confiscated several weapons, ammunition, digital data and documents during the operations, it said. \"\n        ],\n        \"semantic_type\": \"\",\n        \"description\": \"\"\n      }\n    },\n    {\n      \"column\": \"subject\",\n      \"properties\": {\n        \"dtype\": \"category\",\n        \"num_unique_values\": 2,\n        \"samples\": [\n          \"politicsNews\",\n          \"worldnews\"\n        ],\n        \"semantic_type\": \"\",\n        \"description\": \"\"\n      }\n    },\n    {\n      \"column\": \"date\",\n      \"properties\": {\n        \"dtype\": \"object\",\n        \"num_unique_values\": 710,\n        \"samples\": [\n          \"September 1, 2017 \",\n          \"January 12, 2017 \"\n        ],\n        \"semantic_type\": \"\",\n        \"description\": \"\"\n      }\n    }\n  ]\n}"
            }
          },
          "metadata": {},
          "execution_count": 32
        }
      ]
    },
    {
      "cell_type": "code",
      "source": [
        "vocab = sorted(set(text))\n",
        "print(f'Vocabulary size: {len(vocab)}')\n",
        "\n",
        "char2idx = {c: i for i, c in enumerate(vocab)}\n",
        "idx2char = np.array(vocab)\n",
        "\n",
        "text_as_int = np.array([char2idx[c] for c in text])"
      ],
      "metadata": {
        "colab": {
          "base_uri": "https://localhost:8080/"
        },
        "id": "pEhSV9Ooq0Ai",
        "outputId": "09a61e17-0886-487b-d3ca-23480e3d0943"
      },
      "execution_count": 33,
      "outputs": [
        {
          "output_type": "stream",
          "name": "stdout",
          "text": [
            "Vocabulary size: 104\n"
          ]
        }
      ]
    },
    {
      "cell_type": "code",
      "source": [
        "seq_length = 100\n",
        "\n",
        "char_dataset = tf.data.Dataset.from_tensor_slices(text_as_int)\n",
        "\n",
        "sequences = char_dataset.batch(seq_length + 1, drop_remainder=True)\n",
        "\n",
        "def split_input_target(chunk):\n",
        "    return chunk[:-1], chunk[1:]\n",
        "\n",
        "dataset = sequences.map(split_input_target)\n",
        "\n",
        "BATCH_SIZE = 64\n",
        "BUFFER_SIZE = 10000\n",
        "\n",
        "dataset = dataset.shuffle(BUFFER_SIZE).batch(BATCH_SIZE, drop_remainder=True)"
      ],
      "metadata": {
        "id": "yzd1j94TrPBO"
      },
      "execution_count": 34,
      "outputs": []
    },
    {
      "cell_type": "code",
      "source": [
        "vocab_size = len(vocab)\n",
        "embedding_dim = 64\n",
        "rnn_units = 128\n",
        "\n",
        "model = Sequential([\n",
        "    Embedding(vocab_size, embedding_dim, input_shape=(None,)),\n",
        "    LSTM(rnn_units, return_sequences=True, recurrent_initializer='glorot_uniform'),\n",
        "    LSTM(rnn_units, return_sequences=True, recurrent_initializer='glorot_uniform'),\n",
        "    Dropout(0.3),\n",
        "    Dense(vocab_size)\n",
        "])\n",
        "\n"
      ],
      "metadata": {
        "id": "lEPvTeLbrTo9"
      },
      "execution_count": 37,
      "outputs": []
    },
    {
      "cell_type": "code",
      "source": [
        "def loss(labels, logits):\n",
        "    return tf.keras.losses.sparse_categorical_crossentropy(labels, logits, from_logits=True)"
      ],
      "metadata": {
        "id": "YFKfDmBSdU58"
      },
      "execution_count": 39,
      "outputs": []
    },
    {
      "cell_type": "code",
      "source": [
        "\n",
        "model.compile(\n",
        "        optimizer=tf.keras.optimizers.Adam(learning_rate=3e-4),\n",
        "        loss=loss,\n",
        "        metrics=[\"accuracy\"]\n",
        "    )\n",
        "\n",
        "model.summary()"
      ],
      "metadata": {
        "colab": {
          "base_uri": "https://localhost:8080/",
          "height": 289
        },
        "id": "olwN3T6oc0Lr",
        "outputId": "388e7067-03d7-4a3d-a1e9-3802eb3802b8"
      },
      "execution_count": 41,
      "outputs": [
        {
          "output_type": "display_data",
          "data": {
            "text/plain": [
              "\u001b[1mModel: \"sequential_6\"\u001b[0m\n"
            ],
            "text/html": [
              "<pre style=\"white-space:pre;overflow-x:auto;line-height:normal;font-family:Menlo,'DejaVu Sans Mono',consolas,'Courier New',monospace\"><span style=\"font-weight: bold\">Model: \"sequential_6\"</span>\n",
              "</pre>\n"
            ]
          },
          "metadata": {}
        },
        {
          "output_type": "display_data",
          "data": {
            "text/plain": [
              "┏━━━━━━━━━━━━━━━━━━━━━━━━━━━━━━━━━┳━━━━━━━━━━━━━━━━━━━━━━━━┳━━━━━━━━━━━━━━━┓\n",
              "┃\u001b[1m \u001b[0m\u001b[1mLayer (type)                   \u001b[0m\u001b[1m \u001b[0m┃\u001b[1m \u001b[0m\u001b[1mOutput Shape          \u001b[0m\u001b[1m \u001b[0m┃\u001b[1m \u001b[0m\u001b[1m      Param #\u001b[0m\u001b[1m \u001b[0m┃\n",
              "┡━━━━━━━━━━━━━━━━━━━━━━━━━━━━━━━━━╇━━━━━━━━━━━━━━━━━━━━━━━━╇━━━━━━━━━━━━━━━┩\n",
              "│ embedding_6 (\u001b[38;5;33mEmbedding\u001b[0m)         │ (\u001b[38;5;45mNone\u001b[0m, \u001b[38;5;45mNone\u001b[0m, \u001b[38;5;34m64\u001b[0m)       │         \u001b[38;5;34m6,656\u001b[0m │\n",
              "├─────────────────────────────────┼────────────────────────┼───────────────┤\n",
              "│ lstm_9 (\u001b[38;5;33mLSTM\u001b[0m)                   │ (\u001b[38;5;45mNone\u001b[0m, \u001b[38;5;45mNone\u001b[0m, \u001b[38;5;34m128\u001b[0m)      │        \u001b[38;5;34m98,816\u001b[0m │\n",
              "├─────────────────────────────────┼────────────────────────┼───────────────┤\n",
              "│ lstm_10 (\u001b[38;5;33mLSTM\u001b[0m)                  │ (\u001b[38;5;45mNone\u001b[0m, \u001b[38;5;45mNone\u001b[0m, \u001b[38;5;34m128\u001b[0m)      │       \u001b[38;5;34m131,584\u001b[0m │\n",
              "├─────────────────────────────────┼────────────────────────┼───────────────┤\n",
              "│ dropout_3 (\u001b[38;5;33mDropout\u001b[0m)             │ (\u001b[38;5;45mNone\u001b[0m, \u001b[38;5;45mNone\u001b[0m, \u001b[38;5;34m128\u001b[0m)      │             \u001b[38;5;34m0\u001b[0m │\n",
              "├─────────────────────────────────┼────────────────────────┼───────────────┤\n",
              "│ dense_6 (\u001b[38;5;33mDense\u001b[0m)                 │ (\u001b[38;5;45mNone\u001b[0m, \u001b[38;5;45mNone\u001b[0m, \u001b[38;5;34m104\u001b[0m)      │        \u001b[38;5;34m13,416\u001b[0m │\n",
              "└─────────────────────────────────┴────────────────────────┴───────────────┘\n"
            ],
            "text/html": [
              "<pre style=\"white-space:pre;overflow-x:auto;line-height:normal;font-family:Menlo,'DejaVu Sans Mono',consolas,'Courier New',monospace\">┏━━━━━━━━━━━━━━━━━━━━━━━━━━━━━━━━━┳━━━━━━━━━━━━━━━━━━━━━━━━┳━━━━━━━━━━━━━━━┓\n",
              "┃<span style=\"font-weight: bold\"> Layer (type)                    </span>┃<span style=\"font-weight: bold\"> Output Shape           </span>┃<span style=\"font-weight: bold\">       Param # </span>┃\n",
              "┡━━━━━━━━━━━━━━━━━━━━━━━━━━━━━━━━━╇━━━━━━━━━━━━━━━━━━━━━━━━╇━━━━━━━━━━━━━━━┩\n",
              "│ embedding_6 (<span style=\"color: #0087ff; text-decoration-color: #0087ff\">Embedding</span>)         │ (<span style=\"color: #00d7ff; text-decoration-color: #00d7ff\">None</span>, <span style=\"color: #00d7ff; text-decoration-color: #00d7ff\">None</span>, <span style=\"color: #00af00; text-decoration-color: #00af00\">64</span>)       │         <span style=\"color: #00af00; text-decoration-color: #00af00\">6,656</span> │\n",
              "├─────────────────────────────────┼────────────────────────┼───────────────┤\n",
              "│ lstm_9 (<span style=\"color: #0087ff; text-decoration-color: #0087ff\">LSTM</span>)                   │ (<span style=\"color: #00d7ff; text-decoration-color: #00d7ff\">None</span>, <span style=\"color: #00d7ff; text-decoration-color: #00d7ff\">None</span>, <span style=\"color: #00af00; text-decoration-color: #00af00\">128</span>)      │        <span style=\"color: #00af00; text-decoration-color: #00af00\">98,816</span> │\n",
              "├─────────────────────────────────┼────────────────────────┼───────────────┤\n",
              "│ lstm_10 (<span style=\"color: #0087ff; text-decoration-color: #0087ff\">LSTM</span>)                  │ (<span style=\"color: #00d7ff; text-decoration-color: #00d7ff\">None</span>, <span style=\"color: #00d7ff; text-decoration-color: #00d7ff\">None</span>, <span style=\"color: #00af00; text-decoration-color: #00af00\">128</span>)      │       <span style=\"color: #00af00; text-decoration-color: #00af00\">131,584</span> │\n",
              "├─────────────────────────────────┼────────────────────────┼───────────────┤\n",
              "│ dropout_3 (<span style=\"color: #0087ff; text-decoration-color: #0087ff\">Dropout</span>)             │ (<span style=\"color: #00d7ff; text-decoration-color: #00d7ff\">None</span>, <span style=\"color: #00d7ff; text-decoration-color: #00d7ff\">None</span>, <span style=\"color: #00af00; text-decoration-color: #00af00\">128</span>)      │             <span style=\"color: #00af00; text-decoration-color: #00af00\">0</span> │\n",
              "├─────────────────────────────────┼────────────────────────┼───────────────┤\n",
              "│ dense_6 (<span style=\"color: #0087ff; text-decoration-color: #0087ff\">Dense</span>)                 │ (<span style=\"color: #00d7ff; text-decoration-color: #00d7ff\">None</span>, <span style=\"color: #00d7ff; text-decoration-color: #00d7ff\">None</span>, <span style=\"color: #00af00; text-decoration-color: #00af00\">104</span>)      │        <span style=\"color: #00af00; text-decoration-color: #00af00\">13,416</span> │\n",
              "└─────────────────────────────────┴────────────────────────┴───────────────┘\n",
              "</pre>\n"
            ]
          },
          "metadata": {}
        },
        {
          "output_type": "display_data",
          "data": {
            "text/plain": [
              "\u001b[1m Total params: \u001b[0m\u001b[38;5;34m250,472\u001b[0m (978.41 KB)\n"
            ],
            "text/html": [
              "<pre style=\"white-space:pre;overflow-x:auto;line-height:normal;font-family:Menlo,'DejaVu Sans Mono',consolas,'Courier New',monospace\"><span style=\"font-weight: bold\"> Total params: </span><span style=\"color: #00af00; text-decoration-color: #00af00\">250,472</span> (978.41 KB)\n",
              "</pre>\n"
            ]
          },
          "metadata": {}
        },
        {
          "output_type": "display_data",
          "data": {
            "text/plain": [
              "\u001b[1m Trainable params: \u001b[0m\u001b[38;5;34m250,472\u001b[0m (978.41 KB)\n"
            ],
            "text/html": [
              "<pre style=\"white-space:pre;overflow-x:auto;line-height:normal;font-family:Menlo,'DejaVu Sans Mono',consolas,'Courier New',monospace\"><span style=\"font-weight: bold\"> Trainable params: </span><span style=\"color: #00af00; text-decoration-color: #00af00\">250,472</span> (978.41 KB)\n",
              "</pre>\n"
            ]
          },
          "metadata": {}
        },
        {
          "output_type": "display_data",
          "data": {
            "text/plain": [
              "\u001b[1m Non-trainable params: \u001b[0m\u001b[38;5;34m0\u001b[0m (0.00 B)\n"
            ],
            "text/html": [
              "<pre style=\"white-space:pre;overflow-x:auto;line-height:normal;font-family:Menlo,'DejaVu Sans Mono',consolas,'Courier New',monospace\"><span style=\"font-weight: bold\"> Non-trainable params: </span><span style=\"color: #00af00; text-decoration-color: #00af00\">0</span> (0.00 B)\n",
              "</pre>\n"
            ]
          },
          "metadata": {}
        }
      ]
    },
    {
      "cell_type": "code",
      "source": [
        "from tensorflow.keras.callbacks import ModelCheckpoint , ReduceLROnPlateau,EarlyStopping\n",
        "\n",
        "checkpoint = ModelCheckpoint(\n",
        "    filepath='best_model.keras',\n",
        "    monitor='accuracy',\n",
        "    save_best_only=True,\n",
        "    mode='max',\n",
        "    verbose=1\n",
        ")\n",
        "\n",
        "reduce_lr = ReduceLROnPlateau(\n",
        "    monitor='accuracy',\n",
        "    factor=0.5,\n",
        "    patience=5,\n",
        "    min_lr=1e-6,\n",
        "    verbose=1\n",
        ")\n",
        "early_stopping = EarlyStopping(monitor='loss', patience=10, restore_best_weights=True)\n"
      ],
      "metadata": {
        "id": "I-bZs52Pa5BE"
      },
      "execution_count": 51,
      "outputs": []
    },
    {
      "cell_type": "code",
      "source": [
        "EPOCHS = 30\n",
        "history = model.fit(\n",
        "    dataset,\n",
        "    epochs=EPOCHS,\n",
        "     callbacks=[checkpoint, early_stopping, reduce_lr])"
      ],
      "metadata": {
        "colab": {
          "base_uri": "https://localhost:8080/"
        },
        "id": "-WYk71HZagTr",
        "outputId": "9648041b-75ac-47dd-bc20-f0bb4b3a38a5"
      },
      "execution_count": 52,
      "outputs": [
        {
          "output_type": "stream",
          "name": "stdout",
          "text": [
            "Epoch 1/30\n",
            "\u001b[1m5520/5522\u001b[0m \u001b[32m━━━━━━━━━━━━━━━━━━━\u001b[0m\u001b[37m━\u001b[0m \u001b[1m0s\u001b[0m 20ms/step - accuracy: 0.5444 - loss: 1.5443\n",
            "Epoch 1: accuracy improved from -inf to 0.54923, saving model to best_model.keras\n",
            "\u001b[1m5522/5522\u001b[0m \u001b[32m━━━━━━━━━━━━━━━━━━━━\u001b[0m\u001b[37m\u001b[0m \u001b[1m135s\u001b[0m 24ms/step - accuracy: 0.5444 - loss: 1.5443 - learning_rate: 3.0000e-04\n",
            "Epoch 2/30\n",
            "\u001b[1m5520/5522\u001b[0m \u001b[32m━━━━━━━━━━━━━━━━━━━\u001b[0m\u001b[37m━\u001b[0m \u001b[1m0s\u001b[0m 22ms/step - accuracy: 0.5596 - loss: 1.4873\n",
            "Epoch 2: accuracy improved from 0.54923 to 0.56267, saving model to best_model.keras\n",
            "\u001b[1m5522/5522\u001b[0m \u001b[32m━━━━━━━━━━━━━━━━━━━━\u001b[0m\u001b[37m\u001b[0m \u001b[1m128s\u001b[0m 22ms/step - accuracy: 0.5596 - loss: 1.4873 - learning_rate: 3.0000e-04\n",
            "Epoch 3/30\n",
            "\u001b[1m5520/5522\u001b[0m \u001b[32m━━━━━━━━━━━━━━━━━━━\u001b[0m\u001b[37m━\u001b[0m \u001b[1m0s\u001b[0m 22ms/step - accuracy: 0.5691 - loss: 1.4504\n",
            "Epoch 3: accuracy improved from 0.56267 to 0.57139, saving model to best_model.keras\n",
            "\u001b[1m5522/5522\u001b[0m \u001b[32m━━━━━━━━━━━━━━━━━━━━\u001b[0m\u001b[37m\u001b[0m \u001b[1m142s\u001b[0m 22ms/step - accuracy: 0.5691 - loss: 1.4504 - learning_rate: 3.0000e-04\n",
            "Epoch 4/30\n",
            "\u001b[1m5519/5522\u001b[0m \u001b[32m━━━━━━━━━━━━━━━━━━━\u001b[0m\u001b[37m━\u001b[0m \u001b[1m0s\u001b[0m 20ms/step - accuracy: 0.5760 - loss: 1.4240\n",
            "Epoch 4: accuracy improved from 0.57139 to 0.57788, saving model to best_model.keras\n",
            "\u001b[1m5522/5522\u001b[0m \u001b[32m━━━━━━━━━━━━━━━━━━━━\u001b[0m\u001b[37m\u001b[0m \u001b[1m114s\u001b[0m 20ms/step - accuracy: 0.5760 - loss: 1.4240 - learning_rate: 3.0000e-04\n",
            "Epoch 5/30\n",
            "\u001b[1m5521/5522\u001b[0m \u001b[32m━━━━━━━━━━━━━━━━━━━\u001b[0m\u001b[37m━\u001b[0m \u001b[1m0s\u001b[0m 22ms/step - accuracy: 0.5813 - loss: 1.4042\n",
            "Epoch 5: accuracy improved from 0.57788 to 0.58291, saving model to best_model.keras\n",
            "\u001b[1m5522/5522\u001b[0m \u001b[32m━━━━━━━━━━━━━━━━━━━━\u001b[0m\u001b[37m\u001b[0m \u001b[1m121s\u001b[0m 22ms/step - accuracy: 0.5813 - loss: 1.4042 - learning_rate: 3.0000e-04\n",
            "Epoch 6/30\n",
            "\u001b[1m5520/5522\u001b[0m \u001b[32m━━━━━━━━━━━━━━━━━━━\u001b[0m\u001b[37m━\u001b[0m \u001b[1m0s\u001b[0m 20ms/step - accuracy: 0.5856 - loss: 1.3879\n",
            "Epoch 6: accuracy improved from 0.58291 to 0.58701, saving model to best_model.keras\n",
            "\u001b[1m5522/5522\u001b[0m \u001b[32m━━━━━━━━━━━━━━━━━━━━\u001b[0m\u001b[37m\u001b[0m \u001b[1m115s\u001b[0m 21ms/step - accuracy: 0.5856 - loss: 1.3879 - learning_rate: 3.0000e-04\n",
            "Epoch 7/30\n",
            "\u001b[1m5521/5522\u001b[0m \u001b[32m━━━━━━━━━━━━━━━━━━━\u001b[0m\u001b[37m━\u001b[0m \u001b[1m0s\u001b[0m 20ms/step - accuracy: 0.5892 - loss: 1.3750\n",
            "Epoch 7: accuracy improved from 0.58701 to 0.59039, saving model to best_model.keras\n",
            "\u001b[1m5522/5522\u001b[0m \u001b[32m━━━━━━━━━━━━━━━━━━━━\u001b[0m\u001b[37m\u001b[0m \u001b[1m113s\u001b[0m 20ms/step - accuracy: 0.5892 - loss: 1.3750 - learning_rate: 3.0000e-04\n",
            "Epoch 8/30\n",
            "\u001b[1m5519/5522\u001b[0m \u001b[32m━━━━━━━━━━━━━━━━━━━\u001b[0m\u001b[37m━\u001b[0m \u001b[1m0s\u001b[0m 20ms/step - accuracy: 0.5921 - loss: 1.3637\n",
            "Epoch 8: accuracy improved from 0.59039 to 0.59320, saving model to best_model.keras\n",
            "\u001b[1m5522/5522\u001b[0m \u001b[32m━━━━━━━━━━━━━━━━━━━━\u001b[0m\u001b[37m\u001b[0m \u001b[1m114s\u001b[0m 20ms/step - accuracy: 0.5921 - loss: 1.3637 - learning_rate: 3.0000e-04\n",
            "Epoch 9/30\n",
            "\u001b[1m5522/5522\u001b[0m \u001b[32m━━━━━━━━━━━━━━━━━━━━\u001b[0m\u001b[37m\u001b[0m \u001b[1m0s\u001b[0m 22ms/step - accuracy: 0.5947 - loss: 1.3541\n",
            "Epoch 9: accuracy improved from 0.59320 to 0.59570, saving model to best_model.keras\n",
            "\u001b[1m5522/5522\u001b[0m \u001b[32m━━━━━━━━━━━━━━━━━━━━\u001b[0m\u001b[37m\u001b[0m \u001b[1m126s\u001b[0m 22ms/step - accuracy: 0.5947 - loss: 1.3541 - learning_rate: 3.0000e-04\n",
            "Epoch 10/30\n",
            "\u001b[1m5522/5522\u001b[0m \u001b[32m━━━━━━━━━━━━━━━━━━━━\u001b[0m\u001b[37m\u001b[0m \u001b[1m0s\u001b[0m 21ms/step - accuracy: 0.5968 - loss: 1.3461\n",
            "Epoch 10: accuracy improved from 0.59570 to 0.59779, saving model to best_model.keras\n",
            "\u001b[1m5522/5522\u001b[0m \u001b[32m━━━━━━━━━━━━━━━━━━━━\u001b[0m\u001b[37m\u001b[0m \u001b[1m121s\u001b[0m 21ms/step - accuracy: 0.5968 - loss: 1.3461 - learning_rate: 3.0000e-04\n",
            "Epoch 11/30\n",
            "\u001b[1m5521/5522\u001b[0m \u001b[32m━━━━━━━━━━━━━━━━━━━\u001b[0m\u001b[37m━\u001b[0m \u001b[1m0s\u001b[0m 21ms/step - accuracy: 0.5987 - loss: 1.3388\n",
            "Epoch 11: accuracy improved from 0.59779 to 0.59971, saving model to best_model.keras\n",
            "\u001b[1m5522/5522\u001b[0m \u001b[32m━━━━━━━━━━━━━━━━━━━━\u001b[0m\u001b[37m\u001b[0m \u001b[1m117s\u001b[0m 21ms/step - accuracy: 0.5987 - loss: 1.3388 - learning_rate: 3.0000e-04\n",
            "Epoch 12/30\n",
            "\u001b[1m5521/5522\u001b[0m \u001b[32m━━━━━━━━━━━━━━━━━━━\u001b[0m\u001b[37m━\u001b[0m \u001b[1m0s\u001b[0m 21ms/step - accuracy: 0.6006 - loss: 1.3321\n",
            "Epoch 12: accuracy improved from 0.59971 to 0.60142, saving model to best_model.keras\n",
            "\u001b[1m5522/5522\u001b[0m \u001b[32m━━━━━━━━━━━━━━━━━━━━\u001b[0m\u001b[37m\u001b[0m \u001b[1m120s\u001b[0m 21ms/step - accuracy: 0.6006 - loss: 1.3321 - learning_rate: 3.0000e-04\n",
            "Epoch 13/30\n",
            "\u001b[1m5521/5522\u001b[0m \u001b[32m━━━━━━━━━━━━━━━━━━━\u001b[0m\u001b[37m━\u001b[0m \u001b[1m0s\u001b[0m 21ms/step - accuracy: 0.6021 - loss: 1.3266\n",
            "Epoch 13: accuracy improved from 0.60142 to 0.60294, saving model to best_model.keras\n",
            "\u001b[1m5522/5522\u001b[0m \u001b[32m━━━━━━━━━━━━━━━━━━━━\u001b[0m\u001b[37m\u001b[0m \u001b[1m137s\u001b[0m 21ms/step - accuracy: 0.6021 - loss: 1.3266 - learning_rate: 3.0000e-04\n",
            "Epoch 14/30\n",
            "\u001b[1m5519/5522\u001b[0m \u001b[32m━━━━━━━━━━━━━━━━━━━\u001b[0m\u001b[37m━\u001b[0m \u001b[1m0s\u001b[0m 21ms/step - accuracy: 0.6036 - loss: 1.3211\n",
            "Epoch 14: accuracy improved from 0.60294 to 0.60432, saving model to best_model.keras\n",
            "\u001b[1m5522/5522\u001b[0m \u001b[32m━━━━━━━━━━━━━━━━━━━━\u001b[0m\u001b[37m\u001b[0m \u001b[1m146s\u001b[0m 21ms/step - accuracy: 0.6036 - loss: 1.3211 - learning_rate: 3.0000e-04\n",
            "Epoch 15/30\n",
            "\u001b[1m5521/5522\u001b[0m \u001b[32m━━━━━━━━━━━━━━━━━━━\u001b[0m\u001b[37m━\u001b[0m \u001b[1m0s\u001b[0m 20ms/step - accuracy: 0.6048 - loss: 1.3166\n",
            "Epoch 15: accuracy improved from 0.60432 to 0.60558, saving model to best_model.keras\n",
            "\u001b[1m5522/5522\u001b[0m \u001b[32m━━━━━━━━━━━━━━━━━━━━\u001b[0m\u001b[37m\u001b[0m \u001b[1m137s\u001b[0m 20ms/step - accuracy: 0.6048 - loss: 1.3166 - learning_rate: 3.0000e-04\n",
            "Epoch 16/30\n",
            "\u001b[1m5520/5522\u001b[0m \u001b[32m━━━━━━━━━━━━━━━━━━━\u001b[0m\u001b[37m━\u001b[0m \u001b[1m0s\u001b[0m 20ms/step - accuracy: 0.6060 - loss: 1.3121\n",
            "Epoch 16: accuracy improved from 0.60558 to 0.60670, saving model to best_model.keras\n",
            "\u001b[1m5522/5522\u001b[0m \u001b[32m━━━━━━━━━━━━━━━━━━━━\u001b[0m\u001b[37m\u001b[0m \u001b[1m114s\u001b[0m 20ms/step - accuracy: 0.6060 - loss: 1.3121 - learning_rate: 3.0000e-04\n",
            "Epoch 17/30\n",
            "\u001b[1m5518/5522\u001b[0m \u001b[32m━━━━━━━━━━━━━━━━━━━\u001b[0m\u001b[37m━\u001b[0m \u001b[1m0s\u001b[0m 20ms/step - accuracy: 0.6071 - loss: 1.3083\n",
            "Epoch 17: accuracy improved from 0.60670 to 0.60775, saving model to best_model.keras\n",
            "\u001b[1m5522/5522\u001b[0m \u001b[32m━━━━━━━━━━━━━━━━━━━━\u001b[0m\u001b[37m\u001b[0m \u001b[1m114s\u001b[0m 20ms/step - accuracy: 0.6071 - loss: 1.3083 - learning_rate: 3.0000e-04\n",
            "Epoch 18/30\n",
            "\u001b[1m5518/5522\u001b[0m \u001b[32m━━━━━━━━━━━━━━━━━━━\u001b[0m\u001b[37m━\u001b[0m \u001b[1m0s\u001b[0m 22ms/step - accuracy: 0.6080 - loss: 1.3046\n",
            "Epoch 18: accuracy improved from 0.60775 to 0.60871, saving model to best_model.keras\n",
            "\u001b[1m5522/5522\u001b[0m \u001b[32m━━━━━━━━━━━━━━━━━━━━\u001b[0m\u001b[37m\u001b[0m \u001b[1m122s\u001b[0m 22ms/step - accuracy: 0.6080 - loss: 1.3046 - learning_rate: 3.0000e-04\n",
            "Epoch 19/30\n",
            "\u001b[1m5520/5522\u001b[0m \u001b[32m━━━━━━━━━━━━━━━━━━━\u001b[0m\u001b[37m━\u001b[0m \u001b[1m0s\u001b[0m 22ms/step - accuracy: 0.6091 - loss: 1.3010\n",
            "Epoch 19: accuracy improved from 0.60871 to 0.60969, saving model to best_model.keras\n",
            "\u001b[1m5522/5522\u001b[0m \u001b[32m━━━━━━━━━━━━━━━━━━━━\u001b[0m\u001b[37m\u001b[0m \u001b[1m122s\u001b[0m 22ms/step - accuracy: 0.6091 - loss: 1.3010 - learning_rate: 3.0000e-04\n",
            "Epoch 20/30\n",
            "\u001b[1m5519/5522\u001b[0m \u001b[32m━━━━━━━━━━━━━━━━━━━\u001b[0m\u001b[37m━\u001b[0m \u001b[1m0s\u001b[0m 20ms/step - accuracy: 0.6098 - loss: 1.2981\n",
            "Epoch 20: accuracy improved from 0.60969 to 0.61044, saving model to best_model.keras\n",
            "\u001b[1m5522/5522\u001b[0m \u001b[32m━━━━━━━━━━━━━━━━━━━━\u001b[0m\u001b[37m\u001b[0m \u001b[1m114s\u001b[0m 20ms/step - accuracy: 0.6098 - loss: 1.2981 - learning_rate: 3.0000e-04\n",
            "Epoch 21/30\n",
            "\u001b[1m5520/5522\u001b[0m \u001b[32m━━━━━━━━━━━━━━━━━━━\u001b[0m\u001b[37m━\u001b[0m \u001b[1m0s\u001b[0m 22ms/step - accuracy: 0.6106 - loss: 1.2950\n",
            "Epoch 21: accuracy improved from 0.61044 to 0.61122, saving model to best_model.keras\n",
            "\u001b[1m5522/5522\u001b[0m \u001b[32m━━━━━━━━━━━━━━━━━━━━\u001b[0m\u001b[37m\u001b[0m \u001b[1m149s\u001b[0m 22ms/step - accuracy: 0.6106 - loss: 1.2950 - learning_rate: 3.0000e-04\n",
            "Epoch 22/30\n",
            "\u001b[1m5522/5522\u001b[0m \u001b[32m━━━━━━━━━━━━━━━━━━━━\u001b[0m\u001b[37m\u001b[0m \u001b[1m0s\u001b[0m 20ms/step - accuracy: 0.6114 - loss: 1.2922\n",
            "Epoch 22: accuracy improved from 0.61122 to 0.61198, saving model to best_model.keras\n",
            "\u001b[1m5522/5522\u001b[0m \u001b[32m━━━━━━━━━━━━━━━━━━━━\u001b[0m\u001b[37m\u001b[0m \u001b[1m114s\u001b[0m 20ms/step - accuracy: 0.6114 - loss: 1.2922 - learning_rate: 3.0000e-04\n",
            "Epoch 23/30\n",
            "\u001b[1m5521/5522\u001b[0m \u001b[32m━━━━━━━━━━━━━━━━━━━\u001b[0m\u001b[37m━\u001b[0m \u001b[1m0s\u001b[0m 20ms/step - accuracy: 0.6121 - loss: 1.2897\n",
            "Epoch 23: accuracy improved from 0.61198 to 0.61266, saving model to best_model.keras\n",
            "\u001b[1m5522/5522\u001b[0m \u001b[32m━━━━━━━━━━━━━━━━━━━━\u001b[0m\u001b[37m\u001b[0m \u001b[1m113s\u001b[0m 20ms/step - accuracy: 0.6121 - loss: 1.2897 - learning_rate: 3.0000e-04\n",
            "Epoch 24/30\n",
            "\u001b[1m5522/5522\u001b[0m \u001b[32m━━━━━━━━━━━━━━━━━━━━\u001b[0m\u001b[37m\u001b[0m \u001b[1m0s\u001b[0m 21ms/step - accuracy: 0.6128 - loss: 1.2872\n",
            "Epoch 24: accuracy improved from 0.61266 to 0.61336, saving model to best_model.keras\n",
            "\u001b[1m5522/5522\u001b[0m \u001b[32m━━━━━━━━━━━━━━━━━━━━\u001b[0m\u001b[37m\u001b[0m \u001b[1m119s\u001b[0m 21ms/step - accuracy: 0.6128 - loss: 1.2872 - learning_rate: 3.0000e-04\n",
            "Epoch 25/30\n",
            "\u001b[1m5519/5522\u001b[0m \u001b[32m━━━━━━━━━━━━━━━━━━━\u001b[0m\u001b[37m━\u001b[0m \u001b[1m0s\u001b[0m 22ms/step - accuracy: 0.6134 - loss: 1.2848\n",
            "Epoch 25: accuracy improved from 0.61336 to 0.61386, saving model to best_model.keras\n",
            "\u001b[1m5522/5522\u001b[0m \u001b[32m━━━━━━━━━━━━━━━━━━━━\u001b[0m\u001b[37m\u001b[0m \u001b[1m147s\u001b[0m 22ms/step - accuracy: 0.6134 - loss: 1.2848 - learning_rate: 3.0000e-04\n",
            "Epoch 26/30\n",
            "\u001b[1m5522/5522\u001b[0m \u001b[32m━━━━━━━━━━━━━━━━━━━━\u001b[0m\u001b[37m\u001b[0m \u001b[1m0s\u001b[0m 22ms/step - accuracy: 0.6140 - loss: 1.2829\n",
            "Epoch 26: accuracy improved from 0.61386 to 0.61449, saving model to best_model.keras\n",
            "\u001b[1m5522/5522\u001b[0m \u001b[32m━━━━━━━━━━━━━━━━━━━━\u001b[0m\u001b[37m\u001b[0m \u001b[1m141s\u001b[0m 22ms/step - accuracy: 0.6140 - loss: 1.2829 - learning_rate: 3.0000e-04\n",
            "Epoch 27/30\n",
            "\u001b[1m5520/5522\u001b[0m \u001b[32m━━━━━━━━━━━━━━━━━━━\u001b[0m\u001b[37m━\u001b[0m \u001b[1m0s\u001b[0m 20ms/step - accuracy: 0.6145 - loss: 1.2808\n",
            "Epoch 27: accuracy improved from 0.61449 to 0.61506, saving model to best_model.keras\n",
            "\u001b[1m5522/5522\u001b[0m \u001b[32m━━━━━━━━━━━━━━━━━━━━\u001b[0m\u001b[37m\u001b[0m \u001b[1m114s\u001b[0m 20ms/step - accuracy: 0.6145 - loss: 1.2808 - learning_rate: 3.0000e-04\n",
            "Epoch 28/30\n",
            "\u001b[1m5521/5522\u001b[0m \u001b[32m━━━━━━━━━━━━━━━━━━━\u001b[0m\u001b[37m━\u001b[0m \u001b[1m0s\u001b[0m 21ms/step - accuracy: 0.6151 - loss: 1.2788\n",
            "Epoch 28: accuracy improved from 0.61506 to 0.61553, saving model to best_model.keras\n",
            "\u001b[1m5522/5522\u001b[0m \u001b[32m━━━━━━━━━━━━━━━━━━━━\u001b[0m\u001b[37m\u001b[0m \u001b[1m119s\u001b[0m 21ms/step - accuracy: 0.6151 - loss: 1.2788 - learning_rate: 3.0000e-04\n",
            "Epoch 29/30\n",
            "\u001b[1m5522/5522\u001b[0m \u001b[32m━━━━━━━━━━━━━━━━━━━━\u001b[0m\u001b[37m\u001b[0m \u001b[1m0s\u001b[0m 21ms/step - accuracy: 0.6155 - loss: 1.2771\n",
            "Epoch 29: accuracy improved from 0.61553 to 0.61599, saving model to best_model.keras\n",
            "\u001b[1m5522/5522\u001b[0m \u001b[32m━━━━━━━━━━━━━━━━━━━━\u001b[0m\u001b[37m\u001b[0m \u001b[1m115s\u001b[0m 21ms/step - accuracy: 0.6155 - loss: 1.2771 - learning_rate: 3.0000e-04\n",
            "Epoch 30/30\n",
            "\u001b[1m5518/5522\u001b[0m \u001b[32m━━━━━━━━━━━━━━━━━━━\u001b[0m\u001b[37m━\u001b[0m \u001b[1m0s\u001b[0m 22ms/step - accuracy: 0.6161 - loss: 1.2751\n",
            "Epoch 30: accuracy improved from 0.61599 to 0.61654, saving model to best_model.keras\n",
            "\u001b[1m5522/5522\u001b[0m \u001b[32m━━━━━━━━━━━━━━━━━━━━\u001b[0m\u001b[37m\u001b[0m \u001b[1m150s\u001b[0m 22ms/step - accuracy: 0.6161 - loss: 1.2751 - learning_rate: 3.0000e-04\n"
          ]
        }
      ]
    },
    {
      "cell_type": "code",
      "source": [
        "def generate_text(model, start_string, num_generate=2, temperature=1.0):\n",
        "    input_eval = [char2idx.get(s, 0) for s in start_string.lower()]\n",
        "    input_eval = tf.expand_dims(input_eval, 0)\n",
        "\n",
        "    text_generated = []\n",
        "\n",
        "    model.layers[1].reset_states()  # Reset LSTM layer states\n",
        "\n",
        "    for _ in range(num_generate):\n",
        "        predictions = model(input_eval)\n",
        "        predictions = tf.squeeze(predictions, 0) / temperature\n",
        "        predicted_id = tf.random.categorical(predictions, num_samples=1)[-1, 0].numpy()\n",
        "\n",
        "        input_eval = tf.expand_dims([predicted_id], 0)\n",
        "        text_generated.append(idx2char[predicted_id])\n",
        "\n",
        "    return start_string + ''.join(text_generated)"
      ],
      "metadata": {
        "id": "iu7DG4bhx7or"
      },
      "execution_count": 55,
      "outputs": []
    },
    {
      "cell_type": "code",
      "source": [
        "print(generate_text(model, start_string=\"An \", num_generate=200, temperature=0.8))"
      ],
      "metadata": {
        "colab": {
          "base_uri": "https://localhost:8080/"
        },
        "id": "fXD1q1-Fx-q5",
        "outputId": "4b12c9e3-e435-4555-c7ca-02229bb69e80"
      },
      "execution_count": 58,
      "outputs": [
        {
          "output_type": "stream",
          "name": "stdout",
          "text": [
            "An fotgre t and aye thatherqucarsthame kan callden merupo honge mereded s a rser ins s thees. of targ. thilarendintid 20 her deananes hererul red ond s il k asthasaind h ct s asire toutritueafio iorin ca\n"
          ]
        }
      ]
    },
    {
      "cell_type": "code",
      "source": [],
      "metadata": {
        "id": "5-leQZS25hf6"
      },
      "execution_count": null,
      "outputs": []
    }
  ]
}